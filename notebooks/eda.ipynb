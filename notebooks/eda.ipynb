{
 "cells": [
  {
   "cell_type": "code",
   "execution_count": null,
   "id": "5ad7ae56",
   "metadata": {
    "vscode": {
     "languageId": "plaintext"
    }
   },
   "outputs": [],
   "source": [
    "# EDA Notebook for NFL QB TD Predictor 🏈\n",
    "import pandas as pd\n",
    "import numpy as np\n",
    "import matplotlib.pyplot as plt\n",
    "import seaborn as sns\n",
    "\n",
    "# Set styling\n",
    "sns.set(style=\"whitegrid\")\n",
    "plt.rcParams['figure.figsize'] = (10, 6)\n",
    "\n",
    "# Load Data\n",
    "game_logs = pd.read_csv('../data/raw/Game_Logs_Quarterback.csv')\n",
    "career_stats = pd.read_csv('../data/raw/Career_Stats_Passing.csv')\n",
    "basic_stats = pd.read_csv('../data/raw/Basic_Stats.csv')\n",
    "\n",
    "# Preview\n",
    "print(\"Game Logs Shape:\", game_logs.shape)\n",
    "print(\"Career Stats Shape:\", career_stats.shape)\n",
    "print(\"Basic Stats Shape:\", basic_stats.shape)\n",
    "\n",
    "display(game_logs.head())\n",
    "display(career_stats.head())\n",
    "display(basic_stats.head())\n"
   ]
  }
 ],
 "metadata": {
  "language_info": {
   "name": "python"
  }
 },
 "nbformat": 4,
 "nbformat_minor": 5
}
